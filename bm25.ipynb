{
 "cells": [
  {
   "cell_type": "code",
   "execution_count": 6,
   "metadata": {},
   "outputs": [],
   "source": [
    "import os\n",
    "from tqdm import tqdm\n",
    "import pandas as pd"
   ]
  },
  {
   "cell_type": "code",
   "execution_count": 4,
   "metadata": {},
   "outputs": [],
   "source": [
    "code_folder = 'code'\n",
    "problem_folder = os.listdir(code_folder)"
   ]
  },
  {
   "cell_type": "code",
   "execution_count": 5,
   "metadata": {},
   "outputs": [
    {
     "name": "stderr",
     "output_type": "stream",
     "text": [
      "100%|██████████| 300/300 [00:03<00:00, 92.97it/s]\n"
     ]
    }
   ],
   "source": [
    "def preprocess_script(script):\n",
    "    with open(script, 'r', encoding='utf-8')as file:\n",
    "        lines = file.readlines()\n",
    "        preproc_lines = []\n",
    "        for line in lines:\n",
    "            if line.lstrip().startswith('#'):\n",
    "                continue\n",
    "            line = line.strip()\n",
    "            if '#' in line:\n",
    "                line = line[:line.index('#')]\n",
    "            line = line.replace('\\n','')\n",
    "            line = line.replace(' ', '\\t')\n",
    "            if line == '':\n",
    "                continue\n",
    "            preproc_lines.append(line)\n",
    "        preprocessed_script = '\\n'.join(preproc_lines)\n",
    "    return preprocessed_script\n",
    "\n",
    "preproc_scripts = []\n",
    "problem_nums = []\n",
    "\n",
    "for problem_folder in tqdm(problem_folder):\n",
    "    scripts = os.listdir(os.path.join(code_folder, problem_folder))\n",
    "    problem_num = scripts[0].split('_')[0]\n",
    "    for script in scripts:\n",
    "        script_file = os.path.join(code_folder, problem_folder, script)\n",
    "        preprocessed_script = preprocess_script(script_file)\n",
    "        preproc_scripts.append(preprocessed_script)\n",
    "    problem_nums.extend([problem_nums]*len(scripts))\n",
    "            "
   ]
  },
  {
   "cell_type": "code",
   "execution_count": 7,
   "metadata": {},
   "outputs": [
    {
     "ename": "",
     "evalue": "",
     "output_type": "error",
     "traceback": [
      "\u001b[1;31mThe Kernel crashed while executing code in the the current cell or a previous cell. Please review the code in the cell(s) to identify a possible cause of the failure. Click <a href='https://aka.ms/vscodeJupyterKernelCrash'>here</a> for more info. View Jupyter <a href='command:jupyter.viewOutput'>log</a> for further details."
     ]
    },
    {
     "ename": "",
     "evalue": "",
     "output_type": "error",
     "traceback": [
      "\u001b[1;31mCanceled future for execute_request message before replies were done"
     ]
    },
    {
     "ename": "",
     "evalue": "",
     "output_type": "error",
     "traceback": [
      "\u001b[1;31mThe Kernel crashed while executing code in the the current cell or a previous cell. Please review the code in the cell(s) to identify a possible cause of the failure. Click <a href='https://aka.ms/vscodeJupyterKernelCrash'>here</a> for more info. View Jupyter <a href='command:jupyter.viewOutput'>log</a> for further details."
     ]
    },
    {
     "ename": "",
     "evalue": "",
     "output_type": "error",
     "traceback": [
      "\u001b[1;31mThe Kernel crashed while executing code in the the current cell or a previous cell. Please review the code in the cell(s) to identify a possible cause of the failure. Click <a href='https://aka.ms/vscodeJupyterKernelCrash'>here</a> for more info. View Jupyter <a href='command:jupyter.viewOutput'>log</a> for further details."
     ]
    },
    {
     "ename": "",
     "evalue": "",
     "output_type": "error",
     "traceback": [
      "\u001b[1;31mThe Kernel crashed while executing code in the the current cell or a previous cell. Please review the code in the cell(s) to identify a possible cause of the failure. Click <a href='https://aka.ms/vscodeJupyterKernelCrash'>here</a> for more info. View Jupyter <a href='command:jupyter.viewOutput'>log</a> for further details."
     ]
    }
   ],
   "source": [
    "df = pd.DataFrame(data = {'code':preproc_scripts, 'problem_num':problem_nums})\n",
    "df"
   ]
  },
  {
   "cell_type": "code",
   "execution_count": null,
   "metadata": {},
   "outputs": [],
   "source": [
    "from transfomer import AutoTokenizer\n",
    "\n",
    "tokenizer = AutoTokenizer.from_pretrained('microsoft/graphcodebert-base')\n",
    "df['tokens'] = df['code'].apply(tokenizer.tokenize)\n",
    "df['len'] = df['tokens'].apply(len)\n",
    "df.describe()"
   ]
  },
  {
   "cell_type": "code",
   "execution_count": null,
   "metadata": {},
   "outputs": [],
   "source": [
    "ndf = df[df['len']<=512].reset_index(drop=True)\n",
    "ndf.describe()"
   ]
  },
  {
   "cell_type": "code",
   "execution_count": null,
   "metadata": {},
   "outputs": [],
   "source": [
    "from sklearn.model_selection import train_test_split\n",
    "\n",
    "train_df, valid_df, train_label, valid_label = train_test_split(ndf, ndf['problem_num'], random_state= 21, test_size=0.2, stratify=ndf['problem_num'])\n",
    "\n",
    "train_df = train_df.reset_index(drop = True)\n",
    "valid_df = valid_df.reset_index(drop = True)"
   ]
  },
  {
   "cell_type": "code",
   "execution_count": null,
   "metadata": {},
   "outputs": [],
   "source": [
    "from rank_bm25 import BM25Okapi\n",
    "from itemtools import combinations"
   ]
  },
  {
   "cell_type": "code",
   "execution_count": null,
   "metadata": {},
   "outputs": [],
   "source": [
    "codes = train_df['code'].to_list()\n",
    "problems = train_df['problem_num'].unique().tolist()\n",
    "problems.sort()\n",
    "\n",
    "tokenized_corpus = [tokenizer.tokenize(code) for code in codes]\n",
    "bm25 = BM25Okapi(tokenized_corpus)\n",
    "\n",
    "total_positive_pairs = []\n",
    "total_negative_paits = []\n",
    "\n",
    "for problem in tqdm(problems):\n",
    "    solution_codes = train_df[train_df['problem_num'] == problem['code']]\n",
    "    positive_pairs = list(combinations(solution_codes.to_list(), 2))\n",
    "\n",
    "    solution_codes_indices = solution_codes.index.to_list()\n",
    "    negative_pairs = []\n",
    "\n",
    "    first_tokenized_code = tokenizer.tokenize(positive_pairs[0][0])\n",
    "    negative_code_scores = bn25.get_scores(first_tokenized_code)\n",
    "    negative_code_ranking = negative_code_scores.argsort()[::-1]\n",
    "    ranking_idx = 0\n",
    "\n",
    "    for solution_code in solution_codes:\n",
    "        negative_solutions = []\n",
    "        while len(negative_solutions) < len(positive_pairs) // len(solution_codes):\n",
    "            high_score_idx = negative_code_ranking[ranking_idx]\n",
    "\n",
    "            if high_score_idx not in solution_codes_indices:\n",
    "                negative_solutions.append(train_df['code'].iloc[high_score_idx])\n",
    "            ranking_idx += 1\n",
    "\n",
    "        for negative_solution in negative_solutions:\n",
    "            negative_pairs.append(solution_code, negative_solution)\n",
    "\n",
    "    total_positive_pairs.extend(positive_pairs)\n",
    "    total_negative_paits.extend(negative_pairs)\n",
    "\n",
    "pos_code = pd.DataFrame(total_positive_pairs, columns = ['code1', 'code2'])\n",
    "pos_code['Similar'] = 1\n",
    "neg_code = pd.DataFrame(total_negative_paits, colums = ['code1', 'code2'])\n",
    "neg_code['Similar'] = 0\n",
    "pair_df = pd.concat((pos_code, neg_df)).sample(frac = 1).reset_index(drop=True)\n",
    "pair_df.head()"
   ]
  }
 ],
 "metadata": {
  "interpreter": {
   "hash": "123df5e45d3c32b16b2643fc47d5d7b198be0059278e248b94e57ee23f200b3c"
  },
  "kernelspec": {
   "display_name": "Python 3.9.7 ('base')",
   "language": "python",
   "name": "python3"
  },
  "language_info": {
   "codemirror_mode": {
    "name": "ipython",
    "version": 3
   },
   "file_extension": ".py",
   "mimetype": "text/x-python",
   "name": "python",
   "nbconvert_exporter": "python",
   "pygments_lexer": "ipython3",
   "version": "3.9.7"
  },
  "orig_nbformat": 4
 },
 "nbformat": 4,
 "nbformat_minor": 2
}
